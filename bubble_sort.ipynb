{
  "nbformat": 4,
  "nbformat_minor": 0,
  "metadata": {
    "colab": {
      "name": "bubble_sort.ipynb",
      "provenance": [],
      "include_colab_link": true
    },
    "kernelspec": {
      "name": "python3",
      "display_name": "Python 3"
    }
  },
  "cells": [
    {
      "cell_type": "markdown",
      "metadata": {
        "id": "view-in-github",
        "colab_type": "text"
      },
      "source": [
        "<a href=\"https://colab.research.google.com/github/chcorophyll/algorithm_introdution_learning/blob/master/bubble_sort.ipynb\" target=\"_parent\"><img src=\"https://colab.research.google.com/assets/colab-badge.svg\" alt=\"Open In Colab\"/></a>"
      ]
    },
    {
      "cell_type": "code",
      "metadata": {
        "id": "L-BHQ2M4KhMl",
        "colab_type": "code",
        "colab": {}
      },
      "source": [
        "def bubble_sorted(L):\n",
        "    new_list = list(L)\n",
        "    list_len = len(new_list)\n",
        "    for i in range(list_len):\n",
        "        for j in range(i+1, list_len):\n",
        "            if new_list[i] > new_list[j]:\n",
        "                new_list[i], new_list[j] = new_list[j], new_list[i]\n",
        "    return new_list"
      ],
      "execution_count": 0,
      "outputs": []
    },
    {
      "cell_type": "code",
      "metadata": {
        "id": "mLFCK2NKLaiS",
        "colab_type": "code",
        "colab": {
          "base_uri": "https://localhost:8080/",
          "height": 35
        },
        "outputId": "97bc6216-6d26-486a-e281-6efccc67f485"
      },
      "source": [
        "testlist = [27, 33, 28, 4, 2, 26, 13, 35, 8, 14]\n",
        "print('sorted:', bubble_sorted(testlist))"
      ],
      "execution_count": 2,
      "outputs": [
        {
          "output_type": "stream",
          "text": [
            "sorted: [2, 4, 8, 13, 14, 26, 27, 28, 33, 35]\n"
          ],
          "name": "stdout"
        }
      ]
    }
  ]
}