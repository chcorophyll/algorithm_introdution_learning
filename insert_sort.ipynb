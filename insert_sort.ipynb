{
  "nbformat": 4,
  "nbformat_minor": 0,
  "metadata": {
    "colab": {
      "name": "insert_sort.ipynb",
      "version": "0.3.2",
      "provenance": [],
      "include_colab_link": true
    },
    "kernelspec": {
      "name": "python3",
      "display_name": "Python 3"
    }
  },
  "cells": [
    {
      "cell_type": "markdown",
      "metadata": {
        "id": "view-in-github",
        "colab_type": "text"
      },
      "source": [
        "<a href=\"https://colab.research.google.com/github/chcorophyll/algorithm_introdution_learning/blob/master/insert_sort.ipynb\" target=\"_parent\"><img src=\"https://colab.research.google.com/assets/colab-badge.svg\" alt=\"Open In Colab\"/></a>"
      ]
    },
    {
      "cell_type": "code",
      "metadata": {
        "id": "GXl604oWUAnI",
        "colab_type": "code",
        "colab": {}
      },
      "source": [
        "def insert_sort(list):\n",
        "    length = len(list)\n",
        "    if length == 1:\n",
        "        return list\n",
        "    for i in range(1, length):\n",
        "        for j in range(i, 0, -1):\n",
        "            if list[j-1] > list[j]:\n",
        "                list[j], list[j-1] = list[j-1], list[j]\n",
        "            else:\n",
        "                break\n",
        "    return list            \n",
        "                "
      ],
      "execution_count": 0,
      "outputs": []
    },
    {
      "cell_type": "code",
      "metadata": {
        "id": "FFUqG9e_YpD7",
        "colab_type": "code",
        "colab": {
          "base_uri": "https://localhost:8080/",
          "height": 35
        },
        "outputId": "92886dfa-d7d2-4aca-addd-18bc0e37a5e3"
      },
      "source": [
        "a = [2, 1, 0, 3, 5, 4, 1, 8, 6]\n",
        "b = insert_sort(a)\n",
        "b"
      ],
      "execution_count": 4,
      "outputs": [
        {
          "output_type": "execute_result",
          "data": {
            "text/plain": [
              "[0, 1, 1, 2, 3, 4, 5, 6, 8]"
            ]
          },
          "metadata": {
            "tags": []
          },
          "execution_count": 4
        }
      ]
    },
    {
      "cell_type": "code",
      "metadata": {
        "id": "n_Ai8o6zY-ab",
        "colab_type": "code",
        "colab": {}
      },
      "source": [
        "def insert_sor(list):\n",
        "    length = len(list)\n",
        "    for i in range(1, length):\n",
        "        key = list[i]\n",
        "        j = i -1 \n",
        "        while j >= 0 and list[j] > key:\n",
        "            list[j+1] = list[j]\n",
        "            j -= 1\n",
        "        list[j+1] = key\n",
        "    return list"
      ],
      "execution_count": 0,
      "outputs": []
    },
    {
      "cell_type": "code",
      "metadata": {
        "id": "8C4aTy9gbV2p",
        "colab_type": "code",
        "colab": {
          "base_uri": "https://localhost:8080/",
          "height": 35
        },
        "outputId": "003e7170-d31c-4732-bc8e-5e19f3b5b215"
      },
      "source": [
        "a = [2, 1, 0, 3, 5, 4, 1, 8, 6]\n",
        "b = insert_sort(a)\n",
        "b"
      ],
      "execution_count": 6,
      "outputs": [
        {
          "output_type": "execute_result",
          "data": {
            "text/plain": [
              "[0, 1, 1, 2, 3, 4, 5, 6, 8]"
            ]
          },
          "metadata": {
            "tags": []
          },
          "execution_count": 6
        }
      ]
    }
  ]
}