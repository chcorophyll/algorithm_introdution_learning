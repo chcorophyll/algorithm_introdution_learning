{
  "nbformat": 4,
  "nbformat_minor": 0,
  "metadata": {
    "colab": {
      "name": "merge_sort.ipynb",
      "provenance": [],
      "include_colab_link": true
    },
    "kernelspec": {
      "name": "python3",
      "display_name": "Python 3"
    }
  },
  "cells": [
    {
      "cell_type": "markdown",
      "metadata": {
        "id": "view-in-github",
        "colab_type": "text"
      },
      "source": [
        "<a href=\"https://colab.research.google.com/github/chcorophyll/algorithm_introdution_learning/blob/master/merge_sort.ipynb\" target=\"_parent\"><img src=\"https://colab.research.google.com/assets/colab-badge.svg\" alt=\"Open In Colab\"/></a>"
      ]
    },
    {
      "cell_type": "code",
      "metadata": {
        "id": "DFl9PCBXBcoI",
        "colab_type": "code",
        "colab": {}
      },
      "source": [
        "def merge(left, right):\n",
        "    result = []\n",
        "    while left and right:\n",
        "        if left[0] <= right[0]:\n",
        "            result.append(left.pop(0))\n",
        "        else:\n",
        "            result.append(right.pop(0))\n",
        "    if left:\n",
        "        result += left\n",
        "    if right:\n",
        "        result += right\n",
        "    return result"
      ],
      "execution_count": 0,
      "outputs": []
    },
    {
      "cell_type": "code",
      "metadata": {
        "id": "uSxN-kb1EDxA",
        "colab_type": "code",
        "colab": {}
      },
      "source": [
        "def merge_sort(L):\n",
        "    if len(L) <= 1:\n",
        "        return L\n",
        "    mid = len(L) // 2\n",
        "    left = L[:mid]\n",
        "    right = L[mid:]\n",
        "    left = merge_sort(left)\n",
        "    right = merge_sort(right)\n",
        "    return merge(left, right)"
      ],
      "execution_count": 0,
      "outputs": []
    },
    {
      "cell_type": "code",
      "metadata": {
        "id": "4csIRvKLFQMR",
        "colab_type": "code",
        "colab": {
          "base_uri": "https://localhost:8080/",
          "height": 53
        },
        "outputId": "46ec7615-393a-48c1-b6a9-28297466602e"
      },
      "source": [
        "test = [1, 4, 2, 3.6, -1, 0, 25, -34, 8, 9, 1, 0]\n",
        "print(\"original:\", test)\n",
        "print(\"Sorted:\", merge_sort(test))"
      ],
      "execution_count": 7,
      "outputs": [
        {
          "output_type": "stream",
          "text": [
            "original: [1, 4, 2, 3.6, -1, 0, 25, -34, 8, 9, 1, 0]\n",
            "Sorted: [-34, -1, 0, 0, 1, 1, 2, 3.6, 4, 8, 9, 25]\n"
          ],
          "name": "stdout"
        }
      ]
    }
  ]
}